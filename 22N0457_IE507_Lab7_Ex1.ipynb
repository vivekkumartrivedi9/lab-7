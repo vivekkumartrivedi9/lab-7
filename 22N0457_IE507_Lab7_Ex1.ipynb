{
  "cells": [
    {
      "cell_type": "markdown",
      "metadata": {
        "id": "X-W9IKBjxu89"
      },
      "source": [
        "$\\huge{solution \\ \\ of  \\ \\ 1.1 \\ \\ and   \\ \\ 1.2} $\n",
        "\n",
        "let $x_{i \\ j}$ be the indicator variable\n",
        "\n",
        " $x_{i \\ j}$=1 if $i^{th}$ factory located at $j^{th}$ location\n",
        " \n",
        "  $x_{i \\ j} $= 0 elsewhere\n",
        "\n",
        "let i k for factory i.e $ \\ \\ $ i,j ∈ {1,2,............n}\n",
        "\n",
        "let j l  for location i.e$\\ \\ \\ $ k,m ∈ {1,2,.............n}\n",
        "\n",
        "let $d_{i \\ k}$ be demand from $i^{th} \\ \\ factory \\ \\ to \\ \\ k^{th}$ factory\n",
        "\n",
        "and let $u_{j \\ l}$ be Unit costs of transportation from $j^{th}$ location to $l^{th}$ location\n",
        "\n",
        "objective fuction is $ \\sum_{i=1}^{i=n} \\sum_{j=1}^{j=n} \\sum_{k=1}^{k=n} \\sum_{l=1}^{l=n} x_{i \\ j} \\ x_{k \\ l} d_{i \\ k} u_{j \\ l}$\n",
        "\n",
        "i.e if  $i^{th}$ factory located at $j^{th}$ location and $k^{th}$ factory located at $l^{th}$ location then demand from $i^{th} \\ \\ factory \\ \\ to \\ \\ k^{th}$ factory is $d_{i \\ k}$ and Unit costs of transportation from $j^{th}$ location to $l^{th}$ location is $u_{j \\ l}$ and we have to minimize the total cost\n",
        "\n",
        "subjected to $ \\sum_{j=1}^{j=n} \\  x_{i \\ j} \\ = 1 \\ \\ \\ \\ ∀i$\n",
        "\n",
        "i.e each factory can be located max at a location\n",
        "\n",
        "$ \\sum_{i=1}^{i=n} \\  x_{i \\ j} \\ = 1 \\ \\ \\ \\ ∀j$\n",
        "\n",
        "i.e each location has max 1 factory \n",
        "\n",
        "now our model is \n",
        "\n",
        "min $ \\sum_{i=1}^{i=n} \\sum_{j=1}^{j=n} \\sum_{k=1}^{k=n} \\sum_{l=1}^{l=n} x_{i \\ j} \\ x_{k \\ l} d_{i \\ k} u_{j \\ l}$\n",
        "\n",
        "subjected to $ \\sum_{j=1}^{j=n} \\  x_{i \\ j} \\ = 1 \\ \\ \\ \\ ∀i$\n",
        "\n",
        "$ \\sum_{i=1}^{i=n} \\  x_{i \\ j} \\ = 1 \\ \\ \\ \\ ∀j$\n",
        "\n",
        "i,k ∈ {1,2,..............n}\n",
        "\n",
        "j,l ∈ {1,2,..................n}\n",
        "\n",
        "$x_{i \\ j} \\ \\ \\in$ {0,1}\n",
        "\n",
        "$x_{k \\ l} \\ \\ \\in$ {0,1}  \n",
        "\n",
        "since we have to solve it by MILP so we have to convert it into MILP for that i take for first model  $y_{i \\ j \\ k \\ l} = x_{i \\ j} * x_{k \\ l}$\n",
        "\n",
        "min $ \\sum_{i=1}^{i=n} \\sum_{j=1}^{j=n} \\sum_{k=1}^{k=n} \\sum_{l=1}^{l=n} y_{i \\ j \\ k \\ l} d_{i \\ k} u_{j \\ l}$\n",
        "\n",
        "$y_{i \\ j \\ k \\ l} \\in$ {0,1}\n",
        "\n",
        "$ \\sum_{j=1}^{j=n} \\  x_{i \\ j} \\ = 1 \\ \\ \\ \\ ∀i$\n",
        "\n",
        "$ \\sum_{i=1}^{i=n} \\  x_{i \\ j} \\ = 1 \\ \\ \\ \\ ∀j$\n",
        "\n",
        "i,k ∈ {1,2,..............n}\n",
        "\n",
        "j,l ∈ {1,2,..................n}\n",
        "\n",
        "$x_{i \\ j} \\ \\ \\in$ {0,1}\n",
        "\n",
        "\n",
        "$y_{i \\ j \\ k \\ l} \\le x_{i \\ j}  \\ \\ \\  \\ \\forall i \\ j \\ k \\ l$\n",
        "\n",
        "$y_{i \\ j \\ k \\ l} \\le x_{k \\ l} \\ \\ \\ \\  \\forall i \\ j \\ k \\ l$\n",
        "\n",
        "  $y_{i \\ j \\ k \\ l} \\ge x_{k \\ l} + x_{i \\ j} -1 \\ \\ \\ \\  \\forall i \\ j \\ k \\ l$\n",
        "\n",
        "  but it is hard to solve using pyomo since in that problem we have $ n^4+n^2$ binary variable and $3*n^4+2n$ constrains it takes too much time (pyomo1 model)\n",
        "\n",
        "  again i tried to solve by another way of linearization for that i found a paper of LINEARIZING QUADRATIC ASSIGNMENT PROBLEM by Surya Prakash Singh published in april 2008\n",
        "\n",
        "  he solved that problem by taking \n",
        "  \n",
        "  $y_{i \\ j \\ k \\ l} = x_{i \\ j} * x_{k \\ l}$\n",
        "\n",
        "  min $ \\sum_{i=1}^{i=n} \\sum_{j=1}^{j=n} \\sum_{k=1}^{k=n} \\sum_{l=1}^{l=n} y_{i \\ j \\ k \\ l} d_{i \\ k} u_{j \\ l}$\n",
        "\n",
        "$y_{i \\ j \\ k \\ l} \\in$ {0,1}\n",
        "\n",
        "$ \\sum_{j=1}^{j=n} \\  x_{i \\ j} \\ = 1 \\ \\ \\ \\ ∀i$\n",
        "\n",
        "$ \\sum_{i=1}^{i=n} \\  x_{i \\ j} \\ = 1 \\ \\ \\ \\ ∀j$\n",
        "\n",
        "$x_{i \\ j} \\ \\ \\in$ {0,1}\n",
        "\n",
        "$y_{i \\ j \\ k \\ l} + M(x_{k \\ l} + x_{i \\ j} -2) \\le 1 \\ \\ \\ \\  \\forall i \\ j \\ k \\ l$\n",
        "\n",
        "$y_{i \\ j \\ k \\ l} - M(x_{k \\ l} + x_{i \\ j} -2) \\ge 1 \\ \\ \\ \\  \\forall i \\ j \\ k \\ l$\n",
        "\n",
        "in that problem we have $ n^4+n^2$ binary variable and $2*n^4 + 2*n$ constrains it also  takes too much time (our pyomo3 model)\n",
        "\n",
        "in that paper he also gives relaxation and solved by \n",
        "\n",
        "  $y_{i \\ j \\ k \\ l} = x_{i \\ j} * x_{k \\ l}$\n",
        "\n",
        "  min $ \\sum_{i=1}^{i=n} \\sum_{j=1}^{j=n} \\sum_{k=1}^{k=n} \\sum_{l=1}^{l=n} y_{i \\ j \\ k \\ l} d_{i \\ k} u_{j \\ l}$\n",
        "\n",
        "$y_{i \\ j \\ k \\ l} \\in$ {0,1}\n",
        "\n",
        "$ \\sum_{j=1}^{j=n} \\  x_{i \\ j} \\ = 1 \\ \\ \\ \\ ∀i$\n",
        "\n",
        "$ \\sum_{i=1}^{i=n} \\  x_{i \\ j} \\ = 1 \\ \\ \\ \\ ∀j$\n",
        "\n",
        "$x_{i \\ j} \\ \\ \\in$ {0,1}\n",
        "\n",
        "\n",
        "$y_{i \\ j \\ k \\ l} - M(x_{k \\ l} + x_{i \\ j} -2) \\ge 1 \\ \\ \\ \\  \\forall i \\ j \\ k \\ l$\n",
        "\n",
        "in that problem we have $ n^4+n^2$ binary variable and $n^4 + 2*n$ constrains it also  takes too much time (our pyomo 2 model)\n",
        "\n",
        "\n",
        "an another linearization is also called adams and johnsons linearization\n",
        "\n",
        "that is \n",
        "\n",
        "min $ \\sum_{i=1}^{i=n} \\sum_{j=1}^{j=n} \\sum_{k=1}^{k=n} \\sum_{l=1}^{l=n} y_{i \\ j \\ k \\ l} d_{i \\ k} u_{j \\ l}$\n",
        "\n",
        "$ \\sum_{i=1}^{i=n} y_{i \\ j \\ k \\ l}=x_{k \\ l} \\ \\ \\ \\  \\forall j \\ k \\ l $\n",
        "\n",
        "$ \\sum_{j=1}^{j=n} y_{i \\ j \\ k \\ l}=x_{k \\ l} \\ \\ \\ \\  \\forall i \\ k \\ l $\n",
        "\n",
        "$ y_{i \\ j \\ k \\ l}= y_{k \\ l \\ i \\ j }  \\ \\ \\ \\ \\ \\forall i \\ j \\ k \\ l$\n",
        "\n",
        "\n",
        "$ y_{i \\ j \\ k \\ l} \\ge 0$\n",
        "\n",
        "\n",
        "$ \\sum_{j=1}^{j=n} \\  x_{i \\ j} \\ = 1 \\ \\ \\ \\ ∀i$\n",
        "\n",
        "$ \\sum_{i=1}^{i=n} \\  x_{i \\ j} \\ = 1 \\ \\ \\ \\ ∀j$\n",
        "\n",
        "$x_{i \\ j} \\in $ {0,1}\n",
        "\n",
        "in that problem we have $ n^2$ binary variable $n^4$ nonnegativereal variable  and $n^4 + 2*n^3 + 2*n$ constrains\n",
        "\n",
        "(our pyomo4 model)\n",
        "\n",
        "\n",
        "\n"
      ]
    },
    {
      "cell_type": "code",
      "execution_count": 1,
      "metadata": {
        "id": "A6MEcXCku696"
      },
      "outputs": [],
      "source": [
        "import numpy as np\n",
        "import pandas as pd\n",
        "!pip install -q pyomo\n",
        "from pyomo.environ import *\n",
        "!apt-get install -y -qq coinor-cbc\n",
        "opt_cbc=SolverFactory('cbc')"
      ]
    },
    {
      "cell_type": "code",
      "execution_count": 2,
      "metadata": {
        "id": "i9CsiN-sta6s"
      },
      "outputs": [],
      "source": [
        "def pyomo1(demand,unit_cost,n):\n",
        "  global model\n",
        "  model=ConcreteModel()\n",
        "  model.y=Var(np.arange(n),np.arange(n),np.arange(n),np.arange(n),domain=Binary)\n",
        "  model.x=Var(np.arange(n),np.arange(n),domain=Binary)\n",
        "  model.constraints=ConstraintList()\n",
        "  model.objective=Objective(expr=sum(demand[i,k]*unit_cost[j,l]*model.y[i,j,k,l] for i in np.arange(n) for j in np.arange(n) for k in np.arange(n) for l in np.arange(n)),sense=minimize)\n",
        "  for i in range(n):\n",
        "    model.constraints.add(expr=sum(model.x[i,j] for j in range(n))==1)\n",
        "  for i in range(n):\n",
        "    model.constraints.add(expr=sum(model.x[j,i] for j in range(n))==1)\n",
        "    for i in range(n):\n",
        "      for k in range(n):\n",
        "        for l in range(n):\n",
        "          for j in range(n):\n",
        "             model.constraints.add(model.y[i,j,k,l]<=model.x[i,j])\n",
        "    for i in range(n):\n",
        "      for k in range(n):\n",
        "        for l in range(n):\n",
        "          for j in range(n):\n",
        "             model.constraints.add(model.y[i,j,k,l]<=model.x[k,l])\n",
        "  for i in range(n):\n",
        "    for k in range(n):\n",
        "      for l in range(n):\n",
        "        for j in range(n):\n",
        "           model.constraints.add(model.y[i,j,k,l]>=model.x[k,l]+model.x[i,j]-1)"
      ]
    },
    {
      "cell_type": "code",
      "execution_count": 3,
      "metadata": {
        "id": "pIX-Dsb-u5Iy"
      },
      "outputs": [],
      "source": [
        "def pyomo2(demand,unit_cost,n):\n",
        "  global model\n",
        "  model=ConcreteModel()\n",
        "  model.y=Var(np.arange(n),np.arange(n),np.arange(n),np.arange(n),domain=Binary)\n",
        "  model.x=Var(np.arange(n),np.arange(n),domain=Binary)\n",
        "  model.constraints=ConstraintList()\n",
        "  model.objective=Objective(expr=sum(demand[i,k]*unit_cost[j,l]*model.y[i,j,k,l] for i in np.arange(n) for j in np.arange(n) for k in np.arange(n) for l in np.arange(n)),sense=minimize)\n",
        "  for i in range(n):\n",
        "    model.constraints.add(expr=sum(model.x[i,j] for j in range(n))==1)\n",
        "  for i in range(n):\n",
        "    model.constraints.add(expr=sum(model.x[j,i] for j in range(n))==1)\n",
        "  for i in range(n):\n",
        "    for k in range(n):\n",
        "      for l in range(n):\n",
        "        for j in range(n):\n",
        "          model.constraints.add(model.y[i,j,k,l] - 6000*(model.x[i,j] + model.x[k,l]-2) >=1)\n"
      ]
    },
    {
      "cell_type": "code",
      "execution_count": 4,
      "metadata": {
        "id": "N2dFXjChv7ZI"
      },
      "outputs": [],
      "source": [
        "def pyomo3(demand,unit_cost,n):\n",
        "  global model\n",
        "  model=ConcreteModel()\n",
        "  model.y=Var(np.arange(n),np.arange(n),np.arange(n),np.arange(n),domain=Binary)\n",
        "  model.x=Var(np.arange(n),np.arange(n),domain=Binary)\n",
        "  model.constraints=ConstraintList()\n",
        "  model.objective=Objective(expr=sum(demand[i,k]*unit_cost[j,l]*model.y[i,j,k,l] for i in np.arange(n) for j in np.arange(n) for k in np.arange(n) for l in np.arange(n)),sense=minimize)\n",
        "  for i in range(n):\n",
        "    model.constraints.add(expr=sum(model.x[i,j] for j in range(n))==1)\n",
        "  for i in range(n):\n",
        "    model.constraints.add(expr=sum(model.x[j,i] for j in range(n))==1)\n",
        "  for i in range(n):\n",
        "    for k in range(n):\n",
        "      for l in range(n):\n",
        "        for j in range(n):\n",
        "          model.constraints.add(model.y[i,j,k,l] - 6000*(model.x[i,j] + model.x[k,l]-2) >=1)\n",
        "  for i in range(n):\n",
        "    for k in range(n):\n",
        "      for l in range(n):\n",
        "        for j in range(n):\n",
        "          model.constraints.add(model.y[i,j,k,l] + 6000*(model.x[i,j] + model.x[k,l]-2) <=1)\n",
        "  "
      ]
    },
    {
      "cell_type": "code",
      "source": [
        "def pyomo4(demand,unit_cost,n):\n",
        "  global model4\n",
        "  model4=ConcreteModel()\n",
        "  model4.y=Var(np.arange(n),np.arange(n),np.arange(n),np.arange(n),domain=NonNegativeReals)\n",
        "  model4.x=Var(np.arange(n),np.arange(n),domain=Binary)\n",
        "  model4.objective=Objective(expr=sum(demand[i,k]*unit_cost[j,l]*model4.y[i,j,k,l] for i in np.arange(n) for j in np.arange(n) for k in np.arange(n) for l in np.arange(n)),sense=minimize)\n",
        "  model4.constraints=ConstraintList()\n",
        "  for j in range(n):\n",
        "    for k in range(n):\n",
        "      for l in range(n):\n",
        "        model4.constraints.add(expr=sum(model4.y[i,j,k,l] for i in range(n))==model4.x[k,l])\n",
        "  for i in range(n):\n",
        "    model4.constraints.add(expr=sum(model4.x[i,j] for j in range(n))==1)\n",
        "  for i in range(n):\n",
        "    model4.constraints.add(expr=sum(model4.x[j,i] for j in range(n))==1)\n",
        "  for i in range(n):\n",
        "    for k in range(n):\n",
        "      for l in range(n):\n",
        "        model4.constraints.add(expr=sum(model4.y[i,j,k,l] for j in range(n))==model4.x[k,l])\n",
        "  for i in range(n):\n",
        "    for k in range(n):\n",
        "      for l in range(n):\n",
        "        for j in range(n):\n",
        "          model4.constraints.add(model4.y[i,j,k,l]==model4.y[k,l,i,j])"
      ],
      "metadata": {
        "id": "fIRrIFd8RsDE"
      },
      "execution_count": 5,
      "outputs": []
    },
    {
      "cell_type": "markdown",
      "source": [
        "our pyomo model5\n",
        "\n",
        "min $ \\sum_{i=1}^{i=n} \\sum_{j=1}^{j=n} \\sum_{k=1}^{k=n} \\sum_{m=1}^{m=n} y_{i \\ j \\ k \\ l} d_{i \\ k} u_{j \\ l}$\n",
        "\n",
        "$y_{i \\ j \\ k \\ l} - x_{i \\ j}-x_{k \\ l} \\ge -1  \\ \\ \\ \\ \\forall i \\ j \\ k \\ l$\n",
        "\n",
        "\n",
        "$y_{i \\ j \\ k \\ l} \\ge 0$\n",
        "\n",
        "$ \\sum_{j=1}^{j=n} \\  x_{i \\ j} \\ = 1 \\ \\ \\ \\ ∀i$\n",
        "\n",
        "$ \\sum_{i=1}^{i=n} \\  x_{i \\ j} \\ = 1 \\ \\ \\ \\ ∀j$\n",
        "\n",
        "$x_{i \\ j} \\ \\ \\in$ {0,1}\n",
        "\n",
        "here n^4 +2n constraints and n^4 real variable and n^2 binary variable"
      ],
      "metadata": {
        "id": "uWF998U9DYAg"
      }
    },
    {
      "cell_type": "code",
      "source": [
        "def pyomo5(demand,unit_cost,n):\n",
        "  model=ConcreteModel()\n",
        "  model.y=Var(np.arange(n),np.arange(n),np.arange(n),np.arange(n),domain=NonNegativeReals)\n",
        "  model.x=Var(np.arange(n),np.arange(n),domain=Binary)\n",
        "  model.constraints=ConstraintList()\n",
        "  model.objective=Objective(expr=sum(demand[i,k]*unit_cost[j,l]*model.y[i,j,k,l] for i in np.arange(n) for j in np.arange(n) for k in np.arange(n) for l in np.arange(n)),sense=minimize)\n",
        "  for i in range(n):\n",
        "    model.constraints.add(expr=sum(model.x[i,j] for j in range(n))==1)\n",
        "  for i in range(n):\n",
        "    model.constraints.add(expr=sum(model.x[j,i] for j in range(n))==1)\n",
        "  for i in range(n):\n",
        "    for k in range(n):\n",
        "      for l in range(n):\n",
        "        for j in range(n):\n",
        "           model.constraints.add(model.y[i,j,k,l] - model.x[i,j]-model.x[k,l] >=-1)"
      ],
      "metadata": {
        "id": "FKJ98IthDXcY"
      },
      "execution_count": 6,
      "outputs": []
    },
    {
      "cell_type": "markdown",
      "source": [
        "our pyomo model6\n",
        "\n",
        "Lawler’s Linearization\n",
        "\n",
        "min $ \\sum_{i=1}^{i=n} \\sum_{j=1}^{j=n} \\sum_{k=1}^{k=n} \\sum_{l=1}^{l=n} y_{i \\ j \\ k \\ l} d_{i \\ k} u_{j \\ l}$\n",
        "\n",
        "$\\sum_{i=1}^{i=n} \\sum_{j=1}^{j=n} \\sum_{k=1}^{k=n} \\sum_{l=1}^{l=n} y_{i \\ j \\ k \\ l}=n^2$\n",
        "\n",
        "\n",
        "$-2*y_{i \\ j \\ k \\ l} + x_{i \\ j}+x_{k \\ l} \\ge 0  \\ \\ \\ \\ \\forall i \\ j \\ k \\ l$\n",
        "\n",
        "\n",
        "$y_{i \\ j \\ k \\ l} \\in $ {0,1}\n",
        "\n",
        "$ \\sum_{j=1}^{j=n} \\  x_{i \\ j} \\ = 1 \\ \\ \\ \\ ∀i$\n",
        "\n",
        "$ \\sum_{i=1}^{i=n} \\  x_{i \\ j} \\ = 1 \\ \\ \\ \\ ∀j$\n",
        "\n",
        "$x_{i \\ j} \\ \\ \\in$ {0,1}\n",
        "\n",
        "here $n^4 +n^2$ binary variable $n^4+2n+1 $ constraints"
      ],
      "metadata": {
        "id": "3nQQwJxiDYJo"
      }
    },
    {
      "cell_type": "code",
      "source": [
        "def pyomo6(demand,unit_cost,n):\n",
        "  global model\n",
        "  model=ConcreteModel()\n",
        "  model.y=Var(np.arange(n),np.arange(n),np.arange(n),np.arange(n),domain=Binary)\n",
        "  model.x=Var(np.arange(n),np.arange(n),domain=Binary)\n",
        "  model.constraints=ConstraintList()\n",
        "  model.objective=Objective(expr=sum(demand[i,k]*unit_cost[j,l]*model.y[i,j,k,l] for i in np.arange(n) for j in np.arange(n) for k in np.arange(n) for l in np.arange(n)),sense=minimize)\n",
        "  for i in range(n):\n",
        "    model.constraints.add(expr=sum(model.x[i,j] for j in range(n))==1)\n",
        "  for i in range(n):\n",
        "    model.constraints.add(expr=sum(model.x[j,i] for j in range(n))==1)\n",
        "  for i in range(n):\n",
        "    for k in range(n):\n",
        "      for l in range(n):\n",
        "        for j in range(n):\n",
        "           model.constraints.add(-2*model.y[i,j,k,l] + model.x[i,j]+model.x[k,l] >=0)\n",
        "    model.constraints.add(expr=sum(model.y[i,j,k,l] for i in np.arange(n) for j in np.arange(n) for k in np.arange(n) for l in np.arange(n))==n**2)"
      ],
      "metadata": {
        "id": "AgcNfSkmDXh7"
      },
      "execution_count": 7,
      "outputs": []
    },
    {
      "cell_type": "markdown",
      "source": [
        "Frieze and Yadegar Linearization (pyomo7 model)\n",
        "\n",
        "\n",
        "min $ \\sum_{i=1}^{i=n} \\sum_{j=1}^{j=n} \\sum_{k=1}^{k=n} \\sum_{l=1}^{l=n} y_{i \\ j \\ k \\ l} d_{i \\ k} u_{j \\ l}$\n",
        "\n",
        "$ \\sum_{j=1}^{j=n} y_{i \\ j \\ k \\ l}=x_{k \\ l} \\ \\ \\ \\  \\forall i \\ k \\ l $\n",
        "\n",
        "$ \\sum_{i=1}^{i=n} y_{i \\ j \\ k \\ l}=x_{k \\ l} \\ \\ \\ \\  \\forall j \\ k \\ l $\n",
        "\n",
        "$ \\sum_{k=1}^{k=n} y_{i \\ j \\ k \\ l}=x_{i \\ j} \\ \\ \\ \\  \\forall i \\ j \\ l $\n",
        "\n",
        "$ \\sum_{l=1}^{l=n} y_{i \\ j \\ k \\ l}=x_{i \\ j} \\ \\ \\ \\  \\forall i \\ j \\ k $\n",
        "\n",
        "$ y_{i \\ j \\ i \\ j}=x_{i \\ j} \\forall i,j$\n",
        "\n",
        "$0 \\le y_{i \\ j \\ i \\ j} \\le 1$\n",
        "\n",
        "$ \\sum_{j=1}^{j=n} \\  x_{i \\ j} \\ = 1 \\ \\ \\ \\ ∀i$\n",
        "\n",
        "$ \\sum_{i=1}^{i=n} \\  x_{i \\ j} \\ = 1 \\ \\ \\ \\ ∀j$\n",
        "\n",
        "$x_{i \\ j} \\ \\ \\in$ {0,1}\n",
        "\n",
        "i,j,k,l= {1,2,3,..................n}\n",
        "\n",
        "here $4n^3+n^2+2n$ constraints $n^4 $ real variable and $n^2$ binary variable "
      ],
      "metadata": {
        "id": "z9G0jcJqfs2k"
      }
    },
    {
      "cell_type": "code",
      "source": [
        "def pyomo7(demand,unit_cost,n):\n",
        "  global model\n",
        "  model=ConcreteModel()\n",
        "  model.y=Var(np.arange(n),np.arange(n),np.arange(n),np.arange(n),domain=Reals)\n",
        "  model.y.setlb(0)\n",
        "  model.y.setub(1)\n",
        "  model.x=Var(np.arange(n),np.arange(n),domain=Binary)\n",
        "  model.constraints=ConstraintList()\n",
        "  model.objective=Objective(expr=sum(demand[i,k]*unit_cost[j,l]*model.y[i,j,k,l] for i in np.arange(n) for j in np.arange(n) for k in np.arange(n) for l in np.arange(n)),sense=minimize)\n",
        "  for i in range(n):\n",
        "    model.constraints.add(expr=sum(model.x[i,j] for j in range(n))==1)\n",
        "  for i in range(n):\n",
        "    model.constraints.add(expr=sum(model.x[j,i] for j in range(n))==1)\n",
        "  for j in range(n):\n",
        "    for k in range(n):\n",
        "      for l in range(n):\n",
        "        model.constraints.add(expr=sum(model.y[i,j,k,l] for i in range(n))==model.x[k,l])\n",
        "  for i in range(n):\n",
        "    for k in range(n):\n",
        "      for l in range(n):\n",
        "        model.constraints.add(expr=sum(model.y[i,j,k,l] for j in range(n))==model.x[k,l])\n",
        "  for i in range(n):\n",
        "    for j in range(n):\n",
        "      for l in range(n):\n",
        "        model.constraints.add(expr=sum(model.y[i,j,k,l] for k in range(n))==model.x[i,j])\n",
        "  for i in range(n):\n",
        "    for j in range(n):\n",
        "      for k in range(n):\n",
        "        model.constraints.add(expr=sum(model.y[i,j,k,l] for l in range(n))==model.x[i,j])\n",
        "  for i in range(n):\n",
        "    for j in range(n):\n",
        "      model.constraints.add(model.y[i,j,i,j]==model.x[i,j])"
      ],
      "metadata": {
        "id": "U5iziuJpfse2"
      },
      "execution_count": 8,
      "outputs": []
    },
    {
      "cell_type": "code",
      "execution_count": 9,
      "metadata": {
        "id": "abeJwx6ousbE"
      },
      "outputs": [],
      "source": [
        "demand=np.loadtxt(\"Lab7_ex1_q.txt\",delimiter='   ')\n",
        "unit_cost=np.loadtxt(\"Lab7_ex1_c.txt\",delimiter='   ')"
      ]
    },
    {
      "cell_type": "code",
      "execution_count": 10,
      "metadata": {
        "id": "tS0qFqSJwJ2_"
      },
      "outputs": [],
      "source": [
        "pyomo7(demand,unit_cost,8)"
      ]
    },
    {
      "cell_type": "code",
      "execution_count": 11,
      "metadata": {
        "colab": {
          "base_uri": "https://localhost:8080/"
        },
        "id": "LloMzAugwfWl",
        "outputId": "d77b53fa-2faf-4525-e73b-d5280ea6adec"
      },
      "outputs": [
        {
          "output_type": "stream",
          "name": "stdout",
          "text": [
            "Solver status: ok\n",
            "Solver termination condition: optimal\n",
            "\n",
            "Objective =  14889.0\n",
            "83.45413947105408\n",
            "1 factory opened at  2 th location\n",
            "2 factory opened at  8 th location\n",
            "3 factory opened at  7 th location\n",
            "4 factory opened at  6 th location\n",
            "5 factory opened at  1 th location\n",
            "6 factory opened at  3 th location\n",
            "7 factory opened at  5 th location\n",
            "8 factory opened at  4 th location\n"
          ]
        }
      ],
      "source": [
        "result = opt_cbc.solve(model)\n",
        "print('Solver status:', result.solver.status)\n",
        "print('Solver termination condition:',result.solver.termination_condition)\n",
        "  # display solution\n",
        "print('\\nObjective = ', model.objective())\n",
        "\n",
        "print(result.solver.time)\n",
        "\n",
        "for i in range(8):\n",
        "  for j in range(8):\n",
        "    if model.x[i,j].value==1:\n",
        "      print(i+1,'factory opened at ',j+1,'th location')"
      ]
    },
    {
      "cell_type": "markdown",
      "source": [
        "$\\huge{solution \\ \\ of \\ \\ 1.9}$\n",
        "\n",
        "Objective cost =  14889.0\n",
        "\n",
        "1 factory opened at  2 th location\n",
        "\n",
        "2 factory opened at  8 th location\n",
        "\n",
        "3 factory opened at  7 th location\n",
        "\n",
        "4 factory opened at  6 th location\n",
        "\n",
        "5 factory opened at  1 th location\n",
        "\n",
        "6 factory opened at  3 th location\n",
        "\n",
        "7 factory opened at  5 th location\n",
        "\n",
        "8 factory opened at  4 th location"
      ],
      "metadata": {
        "id": "KUvJUSIFlFjc"
      }
    },
    {
      "cell_type": "code",
      "source": [
        "pyomo4(demand,unit_cost,8)"
      ],
      "metadata": {
        "id": "Wwc-sOCfR0oN"
      },
      "execution_count": 12,
      "outputs": []
    },
    {
      "cell_type": "code",
      "source": [
        "result = opt_cbc.solve(model4)\n",
        "print('Solver status:', result.solver.status)\n",
        "print('Solver termination condition:',result.solver.termination_condition)\n",
        "  # display solution\n",
        "print('\\nObjective = ', model4.objective())\n",
        "print(result.solver.time)\n",
        "for i in range(8):\n",
        "  for j in range(8):\n",
        "    if model4.x[i,j].value==1:\n",
        "      print(i+1,'factory opened  at ',j+1,'th location')"
      ],
      "metadata": {
        "colab": {
          "base_uri": "https://localhost:8080/"
        },
        "id": "FxQFK3SSR00M",
        "outputId": "a17a870d-fb17-4e60-d7bf-5f7845875938"
      },
      "execution_count": 13,
      "outputs": [
        {
          "output_type": "stream",
          "name": "stdout",
          "text": [
            "Solver status: ok\n",
            "Solver termination condition: optimal\n",
            "\n",
            "Objective =  14889.0\n",
            "716.9786298274994\n",
            "1 factory opened  at  2 th location\n",
            "2 factory opened  at  8 th location\n",
            "3 factory opened  at  7 th location\n",
            "4 factory opened  at  6 th location\n",
            "5 factory opened  at  1 th location\n",
            "6 factory opened  at  3 th location\n",
            "7 factory opened  at  5 th location\n",
            "8 factory opened  at  4 th location\n"
          ]
        }
      ]
    },
    {
      "cell_type": "code",
      "source": [
        "pyomo4(demand,unit_cost,8)\n",
        "model4.x.domain=NonNegativeReals\n",
        "model4.x.setub(1)"
      ],
      "metadata": {
        "id": "oZSf0X1bR_LM"
      },
      "execution_count": 14,
      "outputs": []
    },
    {
      "cell_type": "code",
      "execution_count": 15,
      "metadata": {
        "colab": {
          "base_uri": "https://localhost:8080/"
        },
        "id": "Ui83e1RgxnxJ",
        "outputId": "e10d7611-9dbe-4623-802c-5420bf65fc0d"
      },
      "outputs": [
        {
          "output_type": "stream",
          "name": "stdout",
          "text": [
            "Solver status: ok\n",
            "Solver termination condition: optimal\n",
            "1.6354789733886719\n",
            "\n",
            "Objective =  11790.875009541658\n",
            "x 0 0 = 0.084983499\n",
            "x 0 1 = 0.33367696\n",
            "x 0 2 = 0.048316653\n",
            "x 0 3 = 0.10039981\n",
            "x 0 4 = 0.051444116\n",
            "x 0 5 = 0.25047975\n",
            "x 0 6 = 0.066562267\n",
            "x 0 7 = 0.064136939\n",
            "x 1 0 = 0.19073548\n",
            "x 1 1 = 0.026261001\n",
            "x 1 2 = 0.11864323\n",
            "x 1 3 = 0.1917243\n",
            "x 1 4 = 0.17399296\n",
            "x 1 5 = 0.022830959\n",
            "x 1 6 = 0.15180168\n",
            "x 1 7 = 0.1240104\n",
            "x 2 0 = 0.10388789\n",
            "x 2 2 = 0.17341885\n",
            "x 2 3 = 0.20991576\n",
            "x 2 4 = 0.15765049\n",
            "x 2 5 = 0.12777006\n",
            "x 2 6 = 0.12970289\n",
            "x 2 7 = 0.09765406\n",
            "x 3 0 = 0.07739104\n",
            "x 3 1 = 0.0017389244\n",
            "x 3 2 = 0.16883651\n",
            "x 3 3 = 0.041916945\n",
            "x 3 4 = 0.22827876\n",
            "x 3 5 = 0.13528148\n",
            "x 3 6 = 0.11864323\n",
            "x 3 7 = 0.22791312\n",
            "x 4 0 = 0.20537663\n",
            "x 4 1 = 0.14760491\n",
            "x 4 2 = 0.15701317\n",
            "x 4 3 = 0.043650923\n",
            "x 4 4 = 0.038651246\n",
            "x 4 5 = 0.0772711\n",
            "x 4 6 = 0.15673067\n",
            "x 4 7 = 0.17370134\n",
            "x 5 0 = 0.022830959\n",
            "x 5 2 = 0.19583209\n",
            "x 5 3 = 0.019085987\n",
            "x 5 4 = 0.26693\n",
            "x 5 5 = 0.32892201\n",
            "x 5 6 = 0.06176476\n",
            "x 5 7 = 0.1046342\n",
            "x 6 0 = 0.063140624\n",
            "x 6 1 = 0.31854682\n",
            "x 6 2 = 0.06176476\n",
            "x 6 3 = 0.26544384\n",
            "x 6 4 = 0.083052425\n",
            "x 6 5 = 0.023820054\n",
            "x 6 6 = 0.063140624\n",
            "x 6 7 = 0.12109086\n",
            "x 7 0 = 0.25165388\n",
            "x 7 1 = 0.17217138\n",
            "x 7 2 = 0.076174743\n",
            "x 7 3 = 0.12786244\n",
            "x 7 5 = 0.033624599\n",
            "x 7 6 = 0.25165388\n",
            "x 7 7 = 0.086859086\n"
          ]
        }
      ],
      "source": [
        "result = opt_cbc.solve(model4)\n",
        "print('Solver status:', result.solver.status)\n",
        "print('Solver termination condition:',result.solver.termination_condition)\n",
        "print(result.solver.time)\n",
        "  # display solution\n",
        "print('\\nObjective = ', model4.objective())\n",
        "for i in range(8):\n",
        "  for j in range(8):\n",
        "    if model4.x[i,j].value!=0:\n",
        "      print('x',i,j,'=',model4.x[i,j].value)"
      ]
    },
    {
      "cell_type": "markdown",
      "source": [
        "$\\huge{solution \\ \\ of \\ \\ 1.10}$\n",
        "\n",
        "Objective =  11790.875009541658\n",
        "\n",
        "x 0 0 = 0.084983499\n",
        "\n",
        "x 0 1 = 0.33367696\n",
        "\n",
        "x 0 2 = 0.048316653\n",
        "\n",
        "x 0 3 = 0.10039981\n",
        "\n",
        "x 0 4 = 0.051444116\n",
        "\n",
        "x 0 5 = 0.25047975\n",
        "\n",
        "x 0 6 = 0.066562267\n",
        "\n",
        "x 0 7 = 0.064136939\n",
        "\n",
        "x 1 0 = 0.19073548\n",
        "\n",
        "x 1 1 = 0.026261001\n",
        "\n",
        "x 1 2 = 0.11864323\n",
        "\n",
        "x 1 3 = 0.1917243\n",
        "\n",
        "x 1 4 = 0.17399296\n",
        "\n",
        "x 1 5 = 0.022830959\n",
        "\n",
        "x 1 6 = 0.15180168\n",
        "\n",
        "x 1 7 = 0.1240104\n",
        "\n",
        "x 2 0 = 0.10388789\n",
        "\n",
        "x 2 2 = 0.17341885\n",
        "\n",
        "x 2 3 = 0.20991576\n",
        "\n",
        "x 2 4 = 0.15765049\n",
        "\n",
        "x 2 5 = 0.12777006\n",
        "\n",
        "x 2 6 = 0.12970289\n",
        "\n",
        "x 2 7 = 0.09765406\n",
        "\n",
        "x 3 0 = 0.07739104\n",
        "\n",
        "x 3 1 = 0.0017389244\n",
        "\n",
        "x 3 2 = 0.16883651\n",
        "\n",
        "x 3 3 = 0.041916945\n",
        "\n",
        "x 3 4 = 0.22827876\n",
        "\n",
        "x 3 5 = 0.13528148\n",
        "\n",
        "x 3 6 = 0.11864323\n",
        "\n",
        "x 3 7 = 0.22791312\n",
        "\n",
        "x 4 0 = 0.20537663\n",
        "\n",
        "x 4 1 = 0.14760491\n",
        "\n",
        "x 4 2 = 0.15701317\n",
        "\n",
        "x 4 3 = 0.043650923\n",
        "\n",
        "x 4 4 = 0.038651246\n",
        "\n",
        "x 4 5 = 0.0772711\n",
        "\n",
        "x 4 6 = 0.15673067\n",
        "\n",
        "x 4 7 = 0.17370134\n",
        "\n",
        "x 5 0 = 0.022830959\n",
        "\n",
        "x 5 2 = 0.19583209\n",
        "\n",
        "x 5 3 = 0.019085987\n",
        "\n",
        "x 5 4 = 0.26693\n",
        "\n",
        "x 5 5 = 0.32892201\n",
        "\n",
        "x 5 6 = 0.06176476\n",
        "\n",
        "x 5 7 = 0.1046342\n",
        "\n",
        "x 6 0 = 0.063140624\n",
        "\n",
        "x 6 1 = 0.31854682\n",
        "\n",
        "x 6 2 = 0.06176476\n",
        "\n",
        "x 6 3 = 0.26544384\n",
        "\n",
        "x 6 4 = 0.083052425\n",
        "\n",
        "x 6 5 = 0.023820054\n",
        "\n",
        "x 6 6 = 0.063140624\n",
        "\n",
        "x 6 7 = 0.12109086\n",
        "\n",
        "x 7 0 = 0.25165388\n",
        "\n",
        "\n",
        "x 7 1 = 0.17217138\n",
        "\n",
        "x 7 2 = 0.076174743\n",
        "\n",
        "x 7 3 = 0.12786244\n",
        "\n",
        "x 7 5 = 0.033624599\n",
        "\n",
        "x 7 6 = 0.25165388\n",
        "\n",
        "x 7 7 = 0.086859086"
      ],
      "metadata": {
        "id": "UiydICCDlfT7"
      }
    },
    {
      "cell_type": "markdown",
      "source": [
        "$\\huge{solution \\ \\ of \\ \\ 1.11}$\n",
        "\n",
        "optimal cost are not same and variable are not integer value now \n",
        "\n",
        "The MILP is bounded by some polyhedron with the additional constraint that only the integral points are feasible. The LP MODEL  is the same polyhedron where all points are feasible. Therefore, the first condition is satisfied as the set of all points in a polyhedron must logically include all integral points in the same polyhedron\n",
        "\n",
        "now,if we  solve LP  and all variables are integral. Either (MILP) has the integrality property (where the optimal solution of the corresponding LP will always be integral, such as with LPs with totally unimodular matrices), or we were lucky and the optimal solution of MILP touches the edge of the polyhedron that bounds the feasible region\n",
        "\n",
        "we can be certain that (for a minimisation problem), the optimal value to the corresponding MILP must be at least the optimal solution to LP, since the set of feasible points of MILP is contained inside that of LP, and because the function values of MILP at any arbitrary point is at least as great as that of LP at the same point.\n",
        "\n",
        "i.e if soltion of LP is integer lies in the feasible reason of MILP then both solution are equal i.e feasible solution for the MILP is a feasible solution to the LP, and the reversed is not always so, i.e. a feasible solution for the LP is not necessarily a feasible solution for the MILP"
      ],
      "metadata": {
        "id": "NPxfdQricOpr"
      }
    },
    {
      "cell_type": "code",
      "execution_count": 16,
      "metadata": {
        "id": "izddD2xxkNST",
        "colab": {
          "base_uri": "https://localhost:8080/",
          "height": 36
        },
        "outputId": "2fced650-e198-409e-897a-dd3f2f2a729a"
      },
      "outputs": [
        {
          "output_type": "execute_result",
          "data": {
            "text/plain": [
              "'pyomo1(demand,unit_cost,8)\\nmodel.y.domain=NonNegativeReals\\nmodel.y.setub(1)'"
            ],
            "application/vnd.google.colaboratory.intrinsic+json": {
              "type": "string"
            }
          },
          "metadata": {},
          "execution_count": 16
        }
      ],
      "source": [
        "'''pyomo1(demand,unit_cost,8)\n",
        "model.y.domain=NonNegativeReals\n",
        "model.y.setub(1)'''"
      ]
    },
    {
      "cell_type": "code",
      "execution_count": 17,
      "metadata": {
        "id": "ewJxBmLNwyiP",
        "colab": {
          "base_uri": "https://localhost:8080/",
          "height": 54
        },
        "outputId": "b6899fbf-db15-46ef-d21b-cfea32f9b02e"
      },
      "outputs": [
        {
          "output_type": "execute_result",
          "data": {
            "text/plain": [
              "\"result = opt_cbc.solve(model)\\nprint('Solver status:', result.solver.status)\\nprint('Solver termination condition:',result.solver.termination_condition)\\n  # display solution\\nprint('\\nObjective = ', model.objective())\\nresult.solver.time\\nprint(result)\""
            ],
            "application/vnd.google.colaboratory.intrinsic+json": {
              "type": "string"
            }
          },
          "metadata": {},
          "execution_count": 17
        }
      ],
      "source": [
        "'''result = opt_cbc.solve(model)\n",
        "print('Solver status:', result.solver.status)\n",
        "print('Solver termination condition:',result.solver.termination_condition)\n",
        "  # display solution\n",
        "print('\\nObjective = ', model.objective())\n",
        "result.solver.time\n",
        "print(result)'''"
      ]
    },
    {
      "cell_type": "code",
      "execution_count": 18,
      "metadata": {
        "id": "jRVc0LlTwn7_"
      },
      "outputs": [],
      "source": [
        "#pyomo2(demand,unit_cost,8)"
      ]
    },
    {
      "cell_type": "code",
      "execution_count": 19,
      "metadata": {
        "id": "CVDn7PKkxBnv",
        "colab": {
          "base_uri": "https://localhost:8080/",
          "height": 54
        },
        "outputId": "21fcc43c-4fcc-4eab-c99d-27bb3dac5a95"
      },
      "outputs": [
        {
          "output_type": "execute_result",
          "data": {
            "text/plain": [
              "\"result = opt_cbc.solve(model)\\nprint('Solver status:', result.solver.status)\\nprint('Solver termination condition:',result.solver.termination_condition)\\n  # display solution\\nprint('\\nObjective = ', model.objective())\\nresult.solver.time\\nprint(result)\""
            ],
            "application/vnd.google.colaboratory.intrinsic+json": {
              "type": "string"
            }
          },
          "metadata": {},
          "execution_count": 19
        }
      ],
      "source": [
        "'''result = opt_cbc.solve(model)\n",
        "print('Solver status:', result.solver.status)\n",
        "print('Solver termination condition:',result.solver.termination_condition)\n",
        "  # display solution\n",
        "print('\\nObjective = ', model.objective())\n",
        "result.solver.time\n",
        "print(result)'''"
      ]
    },
    {
      "cell_type": "code",
      "execution_count": 20,
      "metadata": {
        "id": "sE1xAvOow8__"
      },
      "outputs": [],
      "source": [
        "#pyomo3(demand,unit_cost,8)"
      ]
    },
    {
      "cell_type": "code",
      "execution_count": 21,
      "metadata": {
        "id": "L844fa4dEnWb",
        "colab": {
          "base_uri": "https://localhost:8080/",
          "height": 54
        },
        "outputId": "55916741-bf66-4830-848a-5b1c73c21558"
      },
      "outputs": [
        {
          "output_type": "execute_result",
          "data": {
            "text/plain": [
              "\"result = opt_cbc.solve(model)\\nprint('Solver status:', result.solver.status)\\nprint('Solver termination condition:',result.solver.termination_condition)\\n  # display solution\\nprint('\\nObjective = ', model.objective())\\nresult.solver.time\\nprint(result)\""
            ],
            "application/vnd.google.colaboratory.intrinsic+json": {
              "type": "string"
            }
          },
          "metadata": {},
          "execution_count": 21
        }
      ],
      "source": [
        "'''result = opt_cbc.solve(model)\n",
        "print('Solver status:', result.solver.status)\n",
        "print('Solver termination condition:',result.solver.termination_condition)\n",
        "  # display solution\n",
        "print('\\nObjective = ', model.objective())\n",
        "result.solver.time\n",
        "print(result)'''"
      ]
    },
    {
      "cell_type": "code",
      "execution_count": 22,
      "metadata": {
        "id": "ti8JM4v-ElNw",
        "colab": {
          "base_uri": "https://localhost:8080/",
          "height": 36
        },
        "outputId": "ee4ea8a7-de96-4c0c-fd17-5d0994085d74"
      },
      "outputs": [
        {
          "output_type": "execute_result",
          "data": {
            "text/plain": [
              "'pyomo2(demand,unit_cost,8)\\nmodel.y.domain=NonNegativeReals\\nmodel.y.setub(1)'"
            ],
            "application/vnd.google.colaboratory.intrinsic+json": {
              "type": "string"
            }
          },
          "metadata": {},
          "execution_count": 22
        }
      ],
      "source": [
        "'''pyomo2(demand,unit_cost,8)\n",
        "model.y.domain=NonNegativeReals\n",
        "model.y.setub(1)'''"
      ]
    },
    {
      "cell_type": "code",
      "execution_count": 23,
      "metadata": {
        "id": "DjTTLyezEuYD",
        "colab": {
          "base_uri": "https://localhost:8080/",
          "height": 54
        },
        "outputId": "7e12b773-2690-4e40-ed71-ffaef9506096"
      },
      "outputs": [
        {
          "output_type": "execute_result",
          "data": {
            "text/plain": [
              "\"result = opt_cbc.solve(model)\\nprint('Solver status:', result.solver.status)\\nprint('Solver termination condition:',result.solver.termination_condition)\\n  # display solution\\nprint('\\nObjective = ', model.objective())\\nresult.solver.time\\nprint(result)\""
            ],
            "application/vnd.google.colaboratory.intrinsic+json": {
              "type": "string"
            }
          },
          "metadata": {},
          "execution_count": 23
        }
      ],
      "source": [
        "'''result = opt_cbc.solve(model)\n",
        "print('Solver status:', result.solver.status)\n",
        "print('Solver termination condition:',result.solver.termination_condition)\n",
        "  # display solution\n",
        "print('\\nObjective = ', model.objective())\n",
        "result.solver.time\n",
        "print(result)'''"
      ]
    },
    {
      "cell_type": "code",
      "execution_count": 24,
      "metadata": {
        "id": "uMclqJTdErR9",
        "colab": {
          "base_uri": "https://localhost:8080/",
          "height": 36
        },
        "outputId": "06a97393-cb3e-410b-f5a2-07fcd64375ca"
      },
      "outputs": [
        {
          "output_type": "execute_result",
          "data": {
            "text/plain": [
              "'pyomo3(demand,unit_cost,8)\\nmodel.y.domain=NonNegativeReals\\nmodel.y.setub(1)'"
            ],
            "application/vnd.google.colaboratory.intrinsic+json": {
              "type": "string"
            }
          },
          "metadata": {},
          "execution_count": 24
        }
      ],
      "source": [
        "'''pyomo3(demand,unit_cost,8)\n",
        "model.y.domain=NonNegativeReals\n",
        "model.y.setub(1)'''"
      ]
    },
    {
      "cell_type": "code",
      "source": [
        "'''result = opt_cbc.solve(model)\n",
        "print('Solver status:', result.solver.status)\n",
        "print('Solver termination condition:',result.solver.termination_condition)\n",
        "  # display solution\n",
        "print('\\nObjective = ', model.objective())\n",
        "result.solver.time\n",
        "print(result)'''"
      ],
      "metadata": {
        "id": "v8OXbGlgR_Oq",
        "colab": {
          "base_uri": "https://localhost:8080/",
          "height": 54
        },
        "outputId": "5a7b1e42-ab87-4559-dd1d-42af76a21336"
      },
      "execution_count": 25,
      "outputs": [
        {
          "output_type": "execute_result",
          "data": {
            "text/plain": [
              "\"result = opt_cbc.solve(model)\\nprint('Solver status:', result.solver.status)\\nprint('Solver termination condition:',result.solver.termination_condition)\\n  # display solution\\nprint('\\nObjective = ', model.objective())\\nresult.solver.time\\nprint(result)\""
            ],
            "application/vnd.google.colaboratory.intrinsic+json": {
              "type": "string"
            }
          },
          "metadata": {},
          "execution_count": 25
        }
      ]
    }
  ],
  "metadata": {
    "colab": {
      "provenance": [],
      "collapsed_sections": []
    },
    "kernelspec": {
      "display_name": "Python 3",
      "name": "python3"
    },
    "language_info": {
      "name": "python"
    }
  },
  "nbformat": 4,
  "nbformat_minor": 0
}